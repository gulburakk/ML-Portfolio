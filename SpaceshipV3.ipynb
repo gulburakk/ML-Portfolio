{
 "cells": [
  {
   "cell_type": "markdown",
   "id": "76d199ac-ef81-4978-8754-c3fdf613a28c",
   "metadata": {},
   "source": [
    "# Imports"
   ]
  },
  {
   "cell_type": "code",
   "execution_count": 86,
   "id": "4f9d5fe4-3ccf-4c20-9b31-559134453b19",
   "metadata": {},
   "outputs": [],
   "source": [
    "import numpy as np\n",
    "import pandas as pd \n",
    "import seaborn as sns\n",
    "from sklearn.model_selection import train_test_split, GridSearchCV,cross_val_score\n",
    "\n",
    "from IPython.display import clear_output\n",
    "\n",
    "from sklearn.preprocessing import LabelEncoder\n",
    "from sklearn.model_selection import StratifiedKFold, train_test_split\n",
    "\n",
    "from lightgbm import LGBMClassifier\n",
    "import lazypredict\n",
    "from lazypredict.Supervised import LazyClassifier\n",
    "\n",
    "from sklearn.metrics import confusion_matrix, accuracy_score, classification_report\n"
   ]
  },
  {
   "cell_type": "markdown",
   "id": "24cfb8ae-495e-4ddb-aa81-77f56db3187b",
   "metadata": {},
   "source": [
    "# Data readings"
   ]
  },
  {
   "cell_type": "code",
   "execution_count": 2,
   "id": "9cf07e08-ad5d-4405-bea8-7bd05beaa0c5",
   "metadata": {},
   "outputs": [],
   "source": [
    "train=pd.read_csv(\"C:/Users/burka/OneDrive/Masaüstü/22-23 Güz/veri bilimi/reading_data/train_titanic.csv\")\n",
    "test=pd.read_csv(\"C:/Users/burka/OneDrive/Masaüstü/22-23 Güz/veri bilimi/reading_data/test_titanic.csv\")\n",
    "\n"
   ]
  },
  {
   "cell_type": "code",
   "execution_count": 3,
   "id": "b781d3db-75de-4ee3-ae23-3a5acc51637c",
   "metadata": {},
   "outputs": [
    {
     "name": "stdout",
     "output_type": "stream",
     "text": [
      "PassengerId       0\n",
      "HomePlanet      201\n",
      "CryoSleep       217\n",
      "Cabin           199\n",
      "Destination     182\n",
      "Age             179\n",
      "VIP             203\n",
      "RoomService     181\n",
      "FoodCourt       183\n",
      "ShoppingMall    208\n",
      "Spa             183\n",
      "VRDeck          188\n",
      "Name            200\n",
      "Transported       0\n",
      "dtype: int64\n"
     ]
    }
   ],
   "source": [
    "print(train.isnull().sum())  #Nan values in train "
   ]
  },
  {
   "cell_type": "markdown",
   "id": "60d5ae61-39cc-4f6c-adbc-2ff453c49612",
   "metadata": {},
   "source": [
    "# Before start modeling we neeed to fill Nan values in training with correct strategies\n",
    "    -HomePlanet = Weighted average\n",
    "    -CryoSleep  = Weighted average\n",
    "    -Destination  = Weighted average\n",
    "     -Age          =  average\n",
    "    -VIP          =  average\n",
    "    -RoomService  =  average\n",
    "    -FoodCourt    =  average\n",
    "    -ShoppingMall =  average\n",
    "    -Spa          =  average\n",
    "    -VRDeck       =  average \n",
    "    -Name         = Unknown_Name(it is not that important)    \n",
    "- Cabin value consist 3 informations we can purify these datas and drop this column"
   ]
  },
  {
   "cell_type": "markdown",
   "id": "499546b9-db9c-4067-ac74-785759f0cde0",
   "metadata": {},
   "source": [
    "# Fill CryoSleep"
   ]
  },
  {
   "cell_type": "code",
   "execution_count": 4,
   "id": "dc3f5878-40a3-4193-8e0c-b0b1c1a52b04",
   "metadata": {},
   "outputs": [
    {
     "data": {
      "text/plain": [
       "False    5439\n",
       "True     3037\n",
       "Name: CryoSleep, dtype: int64"
      ]
     },
     "execution_count": 4,
     "metadata": {},
     "output_type": "execute_result"
    }
   ],
   "source": [
    "train['CryoSleep'].value_counts()"
   ]
  },
  {
   "cell_type": "code",
   "execution_count": 5,
   "id": "24987918-7d2a-4d9c-9053-64e4e015bc26",
   "metadata": {},
   "outputs": [
    {
     "data": {
      "text/plain": [
       "217"
      ]
     },
     "execution_count": 5,
     "metadata": {},
     "output_type": "execute_result"
    }
   ],
   "source": [
    "train['CryoSleep'].isna().sum()"
   ]
  },
  {
   "cell_type": "code",
   "execution_count": 6,
   "id": "b3c8c061-48bd-4e14-971e-6994b92c1e70",
   "metadata": {},
   "outputs": [
    {
     "name": "stdout",
     "output_type": "stream",
     "text": [
      "139 , 78\n"
     ]
    }
   ],
   "source": [
    "print(round(((5439)/(5439+3037))*217),\",\",217-139) #The first value equals to number of False values filled and the second is True"
   ]
  },
  {
   "cell_type": "code",
   "execution_count": 7,
   "id": "c29eae07-26ca-422f-b4d7-5f3f5502aac7",
   "metadata": {},
   "outputs": [
    {
     "data": {
      "text/plain": [
       "0"
      ]
     },
     "execution_count": 7,
     "metadata": {},
     "output_type": "execute_result"
    }
   ],
   "source": [
    "values = {\"CryoSleep\": True}\n",
    "train=train.fillna(value=values, limit=139)\n",
    "values2 = {\"CryoSleep\": False}\n",
    "train=train.fillna(value=values, limit=78)\n",
    "train['CryoSleep'].isna().sum()"
   ]
  },
  {
   "cell_type": "markdown",
   "id": "f43304ad-9b9e-47c8-9263-94a94cbd4dfb",
   "metadata": {},
   "source": [
    "## Fill HomePlanet "
   ]
  },
  {
   "cell_type": "code",
   "execution_count": 8,
   "id": "b201a205-8b5e-4308-81f0-8b4a81a55ef4",
   "metadata": {},
   "outputs": [
    {
     "data": {
      "text/plain": [
       "0"
      ]
     },
     "execution_count": 8,
     "metadata": {},
     "output_type": "execute_result"
    }
   ],
   "source": [
    "train['HomePlanet'].value_counts()\n",
    "b=(4602+2131+1759)\n",
    "list=[round((4602/b)*201) , round((2131/b)*201) , round((1759/b)*201)]\n",
    "values3 = {\"HomePlanet\": \"Earth\"}\n",
    "values4 = {\"HomePlanet\": \"Europa\" }\n",
    "values5 = {\"HomePlanet\": \"Mars\"}\n",
    "train=train.fillna(value=values3, limit=109)\n",
    "train=train.fillna(value=values4, limit=50)\n",
    "train=train.fillna(value=values5, limit=42)\n",
    "train['HomePlanet'].isna().sum()"
   ]
  },
  {
   "cell_type": "markdown",
   "id": "32ab2402-0da8-42ea-9a65-c351f6429616",
   "metadata": {},
   "source": [
    "# Fill Destination"
   ]
  },
  {
   "cell_type": "code",
   "execution_count": 9,
   "id": "af58216f-f29d-49ed-adf8-e379c8244896",
   "metadata": {},
   "outputs": [
    {
     "data": {
      "text/plain": [
       "TRAPPIST-1e      5915\n",
       "55 Cancri e      1800\n",
       "PSO J318.5-22     796\n",
       "Name: Destination, dtype: int64"
      ]
     },
     "execution_count": 9,
     "metadata": {},
     "output_type": "execute_result"
    }
   ],
   "source": [
    "train['Destination'].value_counts()"
   ]
  },
  {
   "cell_type": "code",
   "execution_count": 10,
   "id": "48aec2a9-461f-4235-ba27-b526bbff23ca",
   "metadata": {},
   "outputs": [
    {
     "data": {
      "text/plain": [
       "0"
      ]
     },
     "execution_count": 10,
     "metadata": {},
     "output_type": "execute_result"
    }
   ],
   "source": [
    "c=(5788+1750+778)\n",
    "list=[round((5788/c)*178) , round((1750/c)*178) , round((778/c)*178)]\n",
    "values6 = {\"Destination\": \"TRAPPIST-1e\"}\n",
    "values7 = {\"Destination\": \"55 Cancri e\" }\n",
    "values8 = {\"Destination\": \"PSO J318.5-22\"}\n",
    "train=train.fillna(value=values6, limit=124)\n",
    "train=train.fillna(value=values7, limit=37)\n",
    "train=train.fillna(value=values8, limit=21)\n",
    "train['Destination'].isna().sum()"
   ]
  },
  {
   "cell_type": "code",
   "execution_count": 11,
   "id": "a9f9dc7b-6745-4665-8bc1-488aa8ad1a41",
   "metadata": {
    "tags": []
   },
   "outputs": [],
   "source": [
    "train=train.dropna(subset=['Cabin'])\n"
   ]
  },
  {
   "cell_type": "code",
   "execution_count": 12,
   "id": "6ea41633-b64b-47a0-ad18-aca951d1461b",
   "metadata": {},
   "outputs": [],
   "source": [
    "train[\"Passenger_Deck\"]=train[\"Cabin\"].str[0:1]\n",
    "train[\"Passenger_num\"]=train[\"Cabin\"].str[2:3]\n",
    "train[\"Passenger_side\"]=train[\"Cabin\"].str[4:5]\n"
   ]
  },
  {
   "cell_type": "code",
   "execution_count": 13,
   "id": "c5e58a60-c25c-4208-8fda-c498b92d137e",
   "metadata": {
    "tags": []
   },
   "outputs": [],
   "source": [
    "train=train.drop(['PassengerId',\"Cabin\",\"Name\"], axis=1)"
   ]
  },
  {
   "cell_type": "code",
   "execution_count": 14,
   "id": "9bba5b81-ad03-4e66-90c5-e44cb92d38ca",
   "metadata": {},
   "outputs": [
    {
     "name": "stdout",
     "output_type": "stream",
     "text": [
      "HomePlanet          0\n",
      "CryoSleep           0\n",
      "Destination         0\n",
      "Age               175\n",
      "VIP               197\n",
      "RoomService       177\n",
      "FoodCourt         178\n",
      "ShoppingMall      206\n",
      "Spa               181\n",
      "VRDeck            184\n",
      "Transported         0\n",
      "Passenger_Deck      0\n",
      "Passenger_num       0\n",
      "Passenger_side      0\n",
      "dtype: int64\n"
     ]
    }
   ],
   "source": [
    "print(train.isnull().sum())  #Nan values in train "
   ]
  },
  {
   "cell_type": "markdown",
   "id": "35afc87f-4c96-48d0-8ea1-b7abca3c8087",
   "metadata": {},
   "source": [
    "# Fill age\n"
   ]
  },
  {
   "cell_type": "code",
   "execution_count": 15,
   "id": "89327af0-6813-4d84-9dcc-45f247ddf630",
   "metadata": {},
   "outputs": [
    {
     "data": {
      "text/plain": [
       "29"
      ]
     },
     "execution_count": 15,
     "metadata": {},
     "output_type": "execute_result"
    }
   ],
   "source": [
    "round(train[\"Age\"].mean())"
   ]
  },
  {
   "cell_type": "code",
   "execution_count": 16,
   "id": "37a0e1b3-2c03-4f89-89ec-0229814700cf",
   "metadata": {},
   "outputs": [],
   "source": [
    "train[\"Age\"] = train['Age'].fillna(29)"
   ]
  },
  {
   "cell_type": "markdown",
   "id": "36588b68-fa2f-49e0-be32-7cd7ed218b70",
   "metadata": {},
   "source": [
    "# Fill VIP"
   ]
  },
  {
   "cell_type": "code",
   "execution_count": 17,
   "id": "15b4988e-4cf0-402a-92d0-23813263dc80",
   "metadata": {},
   "outputs": [
    {
     "data": {
      "text/plain": [
       "False    8104\n",
       "True      193\n",
       "Name: VIP, dtype: int64"
      ]
     },
     "execution_count": 17,
     "metadata": {},
     "output_type": "execute_result"
    }
   ],
   "source": [
    "train['VIP'].value_counts()"
   ]
  },
  {
   "cell_type": "code",
   "execution_count": 18,
   "id": "871d6a57-9d40-4fe0-9e62-7a28a0e7796e",
   "metadata": {},
   "outputs": [
    {
     "data": {
      "text/plain": [
       "192"
      ]
     },
     "execution_count": 18,
     "metadata": {},
     "output_type": "execute_result"
    }
   ],
   "source": [
    "round(8104/(8104+193)*197)"
   ]
  },
  {
   "cell_type": "code",
   "execution_count": 19,
   "id": "b0ec71ee-0bdc-470d-a810-9f4b6d645799",
   "metadata": {},
   "outputs": [],
   "source": [
    "values14 = {\"VIP\": \"False\"}\n",
    "values15 = {\"VIP\": \"False\" }\n",
    "train=train.fillna(value=values14, limit=192)\n",
    "train=train.fillna(value=values15, limit=5)"
   ]
  },
  {
   "cell_type": "code",
   "execution_count": 20,
   "id": "9662ce45-ed98-4a96-ae0b-a302577bd1d3",
   "metadata": {},
   "outputs": [
    {
     "data": {
      "text/html": [
       "<div>\n",
       "<style scoped>\n",
       "    .dataframe tbody tr th:only-of-type {\n",
       "        vertical-align: middle;\n",
       "    }\n",
       "\n",
       "    .dataframe tbody tr th {\n",
       "        vertical-align: top;\n",
       "    }\n",
       "\n",
       "    .dataframe thead th {\n",
       "        text-align: right;\n",
       "    }\n",
       "</style>\n",
       "<table border=\"1\" class=\"dataframe\">\n",
       "  <thead>\n",
       "    <tr style=\"text-align: right;\">\n",
       "      <th></th>\n",
       "      <th>RoomService</th>\n",
       "    </tr>\n",
       "  </thead>\n",
       "  <tbody>\n",
       "    <tr>\n",
       "      <th>25</th>\n",
       "      <td>NaN</td>\n",
       "    </tr>\n",
       "    <tr>\n",
       "      <th>83</th>\n",
       "      <td>NaN</td>\n",
       "    </tr>\n",
       "    <tr>\n",
       "      <th>233</th>\n",
       "      <td>NaN</td>\n",
       "    </tr>\n",
       "    <tr>\n",
       "      <th>400</th>\n",
       "      <td>NaN</td>\n",
       "    </tr>\n",
       "    <tr>\n",
       "      <th>889</th>\n",
       "      <td>NaN</td>\n",
       "    </tr>\n",
       "    <tr>\n",
       "      <th>...</th>\n",
       "      <td>...</td>\n",
       "    </tr>\n",
       "    <tr>\n",
       "      <th>8312</th>\n",
       "      <td>NaN</td>\n",
       "    </tr>\n",
       "    <tr>\n",
       "      <th>8361</th>\n",
       "      <td>NaN</td>\n",
       "    </tr>\n",
       "    <tr>\n",
       "      <th>8380</th>\n",
       "      <td>NaN</td>\n",
       "    </tr>\n",
       "    <tr>\n",
       "      <th>8412</th>\n",
       "      <td>NaN</td>\n",
       "    </tr>\n",
       "    <tr>\n",
       "      <th>8450</th>\n",
       "      <td>NaN</td>\n",
       "    </tr>\n",
       "  </tbody>\n",
       "</table>\n",
       "<p>68 rows × 1 columns</p>\n",
       "</div>"
      ],
      "text/plain": [
       "      RoomService\n",
       "25            NaN\n",
       "83            NaN\n",
       "233           NaN\n",
       "400           NaN\n",
       "889           NaN\n",
       "...           ...\n",
       "8312          NaN\n",
       "8361          NaN\n",
       "8380          NaN\n",
       "8412          NaN\n",
       "8450          NaN\n",
       "\n",
       "[68 rows x 1 columns]"
      ]
     },
     "metadata": {},
     "output_type": "display_data"
    }
   ],
   "source": [
    "display(train.loc[(train['CryoSleep']==True) & (train['RoomService'].isna()),\n",
    "                    [\"RoomService\"]])"
   ]
  },
  {
   "cell_type": "markdown",
   "id": "dca8cb3c-a435-488a-94a8-7e35e6e7f481",
   "metadata": {},
   "source": [
    "# if 'CryoSleep'==True then RoomService and ShoppingMall and Spa and VRDeck should be equal 0 because if you are sleeping you can not spend money"
   ]
  },
  {
   "cell_type": "code",
   "execution_count": 21,
   "id": "972c46b6-0784-4ac3-9c6c-3d70d63a76f3",
   "metadata": {},
   "outputs": [
    {
     "data": {
      "text/html": [
       "<div>\n",
       "<style scoped>\n",
       "    .dataframe tbody tr th:only-of-type {\n",
       "        vertical-align: middle;\n",
       "    }\n",
       "\n",
       "    .dataframe tbody tr th {\n",
       "        vertical-align: top;\n",
       "    }\n",
       "\n",
       "    .dataframe thead th {\n",
       "        text-align: right;\n",
       "    }\n",
       "</style>\n",
       "<table border=\"1\" class=\"dataframe\">\n",
       "  <thead>\n",
       "    <tr style=\"text-align: right;\">\n",
       "      <th></th>\n",
       "      <th>HomePlanet</th>\n",
       "      <th>CryoSleep</th>\n",
       "      <th>Destination</th>\n",
       "      <th>Age</th>\n",
       "      <th>VIP</th>\n",
       "      <th>RoomService</th>\n",
       "      <th>FoodCourt</th>\n",
       "      <th>ShoppingMall</th>\n",
       "      <th>Spa</th>\n",
       "      <th>VRDeck</th>\n",
       "      <th>Transported</th>\n",
       "      <th>Passenger_Deck</th>\n",
       "      <th>Passenger_num</th>\n",
       "      <th>Passenger_side</th>\n",
       "    </tr>\n",
       "  </thead>\n",
       "  <tbody>\n",
       "    <tr>\n",
       "      <th>0</th>\n",
       "      <td>Europa</td>\n",
       "      <td>False</td>\n",
       "      <td>TRAPPIST-1e</td>\n",
       "      <td>39.0</td>\n",
       "      <td>False</td>\n",
       "      <td>0.0</td>\n",
       "      <td>0.0</td>\n",
       "      <td>0.0</td>\n",
       "      <td>0.0</td>\n",
       "      <td>0.0</td>\n",
       "      <td>False</td>\n",
       "      <td>B</td>\n",
       "      <td>0</td>\n",
       "      <td>P</td>\n",
       "    </tr>\n",
       "    <tr>\n",
       "      <th>1</th>\n",
       "      <td>Earth</td>\n",
       "      <td>False</td>\n",
       "      <td>TRAPPIST-1e</td>\n",
       "      <td>24.0</td>\n",
       "      <td>False</td>\n",
       "      <td>109.0</td>\n",
       "      <td>9.0</td>\n",
       "      <td>25.0</td>\n",
       "      <td>549.0</td>\n",
       "      <td>44.0</td>\n",
       "      <td>True</td>\n",
       "      <td>F</td>\n",
       "      <td>0</td>\n",
       "      <td>S</td>\n",
       "    </tr>\n",
       "    <tr>\n",
       "      <th>2</th>\n",
       "      <td>Europa</td>\n",
       "      <td>False</td>\n",
       "      <td>TRAPPIST-1e</td>\n",
       "      <td>58.0</td>\n",
       "      <td>True</td>\n",
       "      <td>43.0</td>\n",
       "      <td>3576.0</td>\n",
       "      <td>0.0</td>\n",
       "      <td>6715.0</td>\n",
       "      <td>49.0</td>\n",
       "      <td>False</td>\n",
       "      <td>A</td>\n",
       "      <td>0</td>\n",
       "      <td>S</td>\n",
       "    </tr>\n",
       "    <tr>\n",
       "      <th>3</th>\n",
       "      <td>Europa</td>\n",
       "      <td>False</td>\n",
       "      <td>TRAPPIST-1e</td>\n",
       "      <td>33.0</td>\n",
       "      <td>False</td>\n",
       "      <td>0.0</td>\n",
       "      <td>1283.0</td>\n",
       "      <td>371.0</td>\n",
       "      <td>3329.0</td>\n",
       "      <td>193.0</td>\n",
       "      <td>False</td>\n",
       "      <td>A</td>\n",
       "      <td>0</td>\n",
       "      <td>S</td>\n",
       "    </tr>\n",
       "    <tr>\n",
       "      <th>4</th>\n",
       "      <td>Earth</td>\n",
       "      <td>False</td>\n",
       "      <td>TRAPPIST-1e</td>\n",
       "      <td>16.0</td>\n",
       "      <td>False</td>\n",
       "      <td>303.0</td>\n",
       "      <td>70.0</td>\n",
       "      <td>151.0</td>\n",
       "      <td>565.0</td>\n",
       "      <td>2.0</td>\n",
       "      <td>True</td>\n",
       "      <td>F</td>\n",
       "      <td>1</td>\n",
       "      <td>S</td>\n",
       "    </tr>\n",
       "  </tbody>\n",
       "</table>\n",
       "</div>"
      ],
      "text/plain": [
       "  HomePlanet  CryoSleep  Destination   Age    VIP  RoomService  FoodCourt  \\\n",
       "0     Europa      False  TRAPPIST-1e  39.0  False          0.0        0.0   \n",
       "1      Earth      False  TRAPPIST-1e  24.0  False        109.0        9.0   \n",
       "2     Europa      False  TRAPPIST-1e  58.0   True         43.0     3576.0   \n",
       "3     Europa      False  TRAPPIST-1e  33.0  False          0.0     1283.0   \n",
       "4      Earth      False  TRAPPIST-1e  16.0  False        303.0       70.0   \n",
       "\n",
       "   ShoppingMall     Spa  VRDeck  Transported Passenger_Deck Passenger_num  \\\n",
       "0           0.0     0.0     0.0        False              B             0   \n",
       "1          25.0   549.0    44.0         True              F             0   \n",
       "2           0.0  6715.0    49.0        False              A             0   \n",
       "3         371.0  3329.0   193.0        False              A             0   \n",
       "4         151.0   565.0     2.0         True              F             1   \n",
       "\n",
       "  Passenger_side  \n",
       "0              P  \n",
       "1              S  \n",
       "2              S  \n",
       "3              S  \n",
       "4              S  "
      ]
     },
     "execution_count": 21,
     "metadata": {},
     "output_type": "execute_result"
    }
   ],
   "source": [
    "train.head()"
   ]
  },
  {
   "cell_type": "code",
   "execution_count": 22,
   "id": "6567095c-6fe1-43ee-9f86-749a7814acce",
   "metadata": {},
   "outputs": [],
   "source": [
    "Expenses_columns = ['RoomService','FoodCourt','ShoppingMall','Spa','VRDeck']\n",
    "train.loc[:,Expenses_columns]=train.apply(lambda x: 0 if x.CryoSleep == True else x,axis =1)\n"
   ]
  },
  {
   "cell_type": "code",
   "execution_count": 23,
   "id": "c20794b0-8c8d-49d2-84db-8ad9234b5f30",
   "metadata": {
    "tags": []
   },
   "outputs": [
    {
     "data": {
      "text/html": [
       "<div>\n",
       "<style scoped>\n",
       "    .dataframe tbody tr th:only-of-type {\n",
       "        vertical-align: middle;\n",
       "    }\n",
       "\n",
       "    .dataframe tbody tr th {\n",
       "        vertical-align: top;\n",
       "    }\n",
       "\n",
       "    .dataframe thead th {\n",
       "        text-align: right;\n",
       "    }\n",
       "</style>\n",
       "<table border=\"1\" class=\"dataframe\">\n",
       "  <thead>\n",
       "    <tr style=\"text-align: right;\">\n",
       "      <th></th>\n",
       "      <th>RoomService</th>\n",
       "    </tr>\n",
       "  </thead>\n",
       "  <tbody>\n",
       "  </tbody>\n",
       "</table>\n",
       "</div>"
      ],
      "text/plain": [
       "Empty DataFrame\n",
       "Columns: [RoomService]\n",
       "Index: []"
      ]
     },
     "metadata": {},
     "output_type": "display_data"
    }
   ],
   "source": [
    "display(train.loc[(train['CryoSleep']==True) & (train['RoomService'].isna()),\n",
    "                    [\"RoomService\"]])"
   ]
  },
  {
   "cell_type": "markdown",
   "id": "18d28f6e-d031-41f2-b66d-4a19eef21830",
   "metadata": {},
   "source": [
    "# Let's fill missing purchase values with mean values"
   ]
  },
  {
   "cell_type": "code",
   "execution_count": 24,
   "id": "7b637cab-aac5-44d1-8668-546854e93dd2",
   "metadata": {},
   "outputs": [],
   "source": [
    "round(train[\"RoomService\"].mean())\n",
    "train[\"RoomService\"] = train['RoomService'].fillna(215)\n",
    "\n",
    "round(train[\"FoodCourt\"].mean())\n",
    "train[\"FoodCourt\"] = train['FoodCourt'].fillna(443)\n",
    "\n",
    "round(train[\"ShoppingMall\"].mean())\n",
    "train[\"ShoppingMall\"] = train['ShoppingMall'].fillna(169)\n",
    "\n",
    "round(train[\"Spa\"].mean())\n",
    "train[\"Spa\"] = train['Spa'].fillna(297)\n",
    "\n",
    "round(train[\"VRDeck\"].mean())\n",
    "train[\"VRDeck\"] = train['VRDeck'].fillna(296)"
   ]
  },
  {
   "cell_type": "code",
   "execution_count": 25,
   "id": "b37e4046-5db1-486c-b071-f5ce818d7a40",
   "metadata": {},
   "outputs": [
    {
     "name": "stdout",
     "output_type": "stream",
     "text": [
      "HomePlanet        0\n",
      "CryoSleep         0\n",
      "Destination       0\n",
      "Age               0\n",
      "VIP               0\n",
      "RoomService       0\n",
      "FoodCourt         0\n",
      "ShoppingMall      0\n",
      "Spa               0\n",
      "VRDeck            0\n",
      "Transported       0\n",
      "Passenger_Deck    0\n",
      "Passenger_num     0\n",
      "Passenger_side    0\n",
      "dtype: int64\n"
     ]
    }
   ],
   "source": [
    "print(train.isnull().sum())"
   ]
  },
  {
   "cell_type": "markdown",
   "id": "2057f649-a0cf-43ec-ae81-ef5056305edb",
   "metadata": {},
   "source": [
    "# Finally, we have 0 NaN,lets chechk their dtypes\n"
   ]
  },
  {
   "cell_type": "code",
   "execution_count": 26,
   "id": "100e7a3d-4dd0-406a-aa26-abcb51ec8c95",
   "metadata": {},
   "outputs": [
    {
     "data": {
      "text/html": [
       "<div>\n",
       "<style scoped>\n",
       "    .dataframe tbody tr th:only-of-type {\n",
       "        vertical-align: middle;\n",
       "    }\n",
       "\n",
       "    .dataframe tbody tr th {\n",
       "        vertical-align: top;\n",
       "    }\n",
       "\n",
       "    .dataframe thead th {\n",
       "        text-align: right;\n",
       "    }\n",
       "</style>\n",
       "<table border=\"1\" class=\"dataframe\">\n",
       "  <thead>\n",
       "    <tr style=\"text-align: right;\">\n",
       "      <th></th>\n",
       "      <th>HomePlanet</th>\n",
       "      <th>CryoSleep</th>\n",
       "      <th>Destination</th>\n",
       "      <th>Age</th>\n",
       "      <th>VIP</th>\n",
       "      <th>RoomService</th>\n",
       "      <th>FoodCourt</th>\n",
       "      <th>ShoppingMall</th>\n",
       "      <th>Spa</th>\n",
       "      <th>VRDeck</th>\n",
       "      <th>Transported</th>\n",
       "      <th>Passenger_Deck</th>\n",
       "      <th>Passenger_num</th>\n",
       "      <th>Passenger_side</th>\n",
       "    </tr>\n",
       "  </thead>\n",
       "  <tbody>\n",
       "    <tr>\n",
       "      <th>0</th>\n",
       "      <td>Europa</td>\n",
       "      <td>False</td>\n",
       "      <td>TRAPPIST-1e</td>\n",
       "      <td>39.0</td>\n",
       "      <td>False</td>\n",
       "      <td>0.0</td>\n",
       "      <td>0.0</td>\n",
       "      <td>0.0</td>\n",
       "      <td>0.0</td>\n",
       "      <td>0.0</td>\n",
       "      <td>False</td>\n",
       "      <td>B</td>\n",
       "      <td>0</td>\n",
       "      <td>P</td>\n",
       "    </tr>\n",
       "    <tr>\n",
       "      <th>1</th>\n",
       "      <td>Earth</td>\n",
       "      <td>False</td>\n",
       "      <td>TRAPPIST-1e</td>\n",
       "      <td>24.0</td>\n",
       "      <td>False</td>\n",
       "      <td>109.0</td>\n",
       "      <td>9.0</td>\n",
       "      <td>25.0</td>\n",
       "      <td>549.0</td>\n",
       "      <td>44.0</td>\n",
       "      <td>True</td>\n",
       "      <td>F</td>\n",
       "      <td>0</td>\n",
       "      <td>S</td>\n",
       "    </tr>\n",
       "    <tr>\n",
       "      <th>2</th>\n",
       "      <td>Europa</td>\n",
       "      <td>False</td>\n",
       "      <td>TRAPPIST-1e</td>\n",
       "      <td>58.0</td>\n",
       "      <td>True</td>\n",
       "      <td>43.0</td>\n",
       "      <td>3576.0</td>\n",
       "      <td>0.0</td>\n",
       "      <td>6715.0</td>\n",
       "      <td>49.0</td>\n",
       "      <td>False</td>\n",
       "      <td>A</td>\n",
       "      <td>0</td>\n",
       "      <td>S</td>\n",
       "    </tr>\n",
       "    <tr>\n",
       "      <th>3</th>\n",
       "      <td>Europa</td>\n",
       "      <td>False</td>\n",
       "      <td>TRAPPIST-1e</td>\n",
       "      <td>33.0</td>\n",
       "      <td>False</td>\n",
       "      <td>0.0</td>\n",
       "      <td>1283.0</td>\n",
       "      <td>371.0</td>\n",
       "      <td>3329.0</td>\n",
       "      <td>193.0</td>\n",
       "      <td>False</td>\n",
       "      <td>A</td>\n",
       "      <td>0</td>\n",
       "      <td>S</td>\n",
       "    </tr>\n",
       "    <tr>\n",
       "      <th>4</th>\n",
       "      <td>Earth</td>\n",
       "      <td>False</td>\n",
       "      <td>TRAPPIST-1e</td>\n",
       "      <td>16.0</td>\n",
       "      <td>False</td>\n",
       "      <td>303.0</td>\n",
       "      <td>70.0</td>\n",
       "      <td>151.0</td>\n",
       "      <td>565.0</td>\n",
       "      <td>2.0</td>\n",
       "      <td>True</td>\n",
       "      <td>F</td>\n",
       "      <td>1</td>\n",
       "      <td>S</td>\n",
       "    </tr>\n",
       "  </tbody>\n",
       "</table>\n",
       "</div>"
      ],
      "text/plain": [
       "  HomePlanet  CryoSleep  Destination   Age    VIP  RoomService  FoodCourt  \\\n",
       "0     Europa      False  TRAPPIST-1e  39.0  False          0.0        0.0   \n",
       "1      Earth      False  TRAPPIST-1e  24.0  False        109.0        9.0   \n",
       "2     Europa      False  TRAPPIST-1e  58.0   True         43.0     3576.0   \n",
       "3     Europa      False  TRAPPIST-1e  33.0  False          0.0     1283.0   \n",
       "4      Earth      False  TRAPPIST-1e  16.0  False        303.0       70.0   \n",
       "\n",
       "   ShoppingMall     Spa  VRDeck  Transported Passenger_Deck Passenger_num  \\\n",
       "0           0.0     0.0     0.0        False              B             0   \n",
       "1          25.0   549.0    44.0         True              F             0   \n",
       "2           0.0  6715.0    49.0        False              A             0   \n",
       "3         371.0  3329.0   193.0        False              A             0   \n",
       "4         151.0   565.0     2.0         True              F             1   \n",
       "\n",
       "  Passenger_side  \n",
       "0              P  \n",
       "1              S  \n",
       "2              S  \n",
       "3              S  \n",
       "4              S  "
      ]
     },
     "execution_count": 26,
     "metadata": {},
     "output_type": "execute_result"
    }
   ],
   "source": [
    "train.head()"
   ]
  },
  {
   "cell_type": "code",
   "execution_count": 27,
   "id": "f10f0919-e604-4a24-95bc-7467b21089e0",
   "metadata": {},
   "outputs": [
    {
     "data": {
      "text/plain": [
       "HomePlanet         object\n",
       "CryoSleep            bool\n",
       "Destination        object\n",
       "Age               float64\n",
       "VIP                object\n",
       "RoomService       float64\n",
       "FoodCourt         float64\n",
       "ShoppingMall      float64\n",
       "Spa               float64\n",
       "VRDeck            float64\n",
       "Transported          bool\n",
       "Passenger_Deck     object\n",
       "Passenger_num      object\n",
       "Passenger_side     object\n",
       "dtype: object"
      ]
     },
     "execution_count": 27,
     "metadata": {},
     "output_type": "execute_result"
    }
   ],
   "source": [
    "train.dtypes"
   ]
  },
  {
   "cell_type": "markdown",
   "id": "0db15200-667b-4825-ac76-9a9972303d6e",
   "metadata": {},
   "source": [
    "- Object types might cause some problems in future"
   ]
  },
  {
   "cell_type": "markdown",
   "id": "f91d77e3-1012-4c09-8d7b-86ee4c2fb7a5",
   "metadata": {},
   "source": [
    "# Before starting encoding categorical values we need to apply same manipulations to test data"
   ]
  },
  {
   "cell_type": "code",
   "execution_count": 28,
   "id": "970a6d43-3644-4c9b-a40f-713bda2bb5f3",
   "metadata": {},
   "outputs": [
    {
     "name": "stdout",
     "output_type": "stream",
     "text": [
      "PassengerId       0\n",
      "HomePlanet       87\n",
      "CryoSleep        93\n",
      "Cabin           100\n",
      "Destination      92\n",
      "Age              91\n",
      "VIP              93\n",
      "RoomService      82\n",
      "FoodCourt       106\n",
      "ShoppingMall     98\n",
      "Spa             101\n",
      "VRDeck           80\n",
      "Name             94\n",
      "dtype: int64\n"
     ]
    }
   ],
   "source": [
    "print(test.isnull().sum())  #Nan values in test "
   ]
  },
  {
   "cell_type": "code",
   "execution_count": 29,
   "id": "ebe1821b-14ab-407f-89bd-eb3db14373af",
   "metadata": {},
   "outputs": [],
   "source": [
    "test=test.dropna(subset=['Cabin'])"
   ]
  },
  {
   "cell_type": "code",
   "execution_count": 30,
   "id": "ba994920-06a7-4cc4-945b-5a95c077de5d",
   "metadata": {
    "tags": []
   },
   "outputs": [],
   "source": [
    "test[\"Passenger_Deck\"]=test[\"Cabin\"].str[0:1]\n",
    "test[\"Passenger_num\"]=test[\"Cabin\"].str[2:3]\n",
    "test[\"Passenger_side\"]=test[\"Cabin\"].str[4:5]\n"
   ]
  },
  {
   "cell_type": "markdown",
   "id": "f6be290e-e671-4c5c-b03e-599ae710fef9",
   "metadata": {},
   "source": [
    "# Fill age\n"
   ]
  },
  {
   "cell_type": "code",
   "execution_count": 31,
   "id": "86a68e43-8961-4677-9a19-e93c13d97289",
   "metadata": {},
   "outputs": [
    {
     "data": {
      "text/plain": [
       "29"
      ]
     },
     "execution_count": 31,
     "metadata": {},
     "output_type": "execute_result"
    }
   ],
   "source": [
    "round(test[\"Age\"].mean())"
   ]
  },
  {
   "cell_type": "code",
   "execution_count": 32,
   "id": "ad0d5b2e-6f81-4184-8e17-2666c72eb01a",
   "metadata": {
    "tags": []
   },
   "outputs": [],
   "source": [
    "test[\"Age\"] = test['Age'].fillna(29)"
   ]
  },
  {
   "cell_type": "code",
   "execution_count": 33,
   "id": "81ec5945-f7c7-42ab-9f52-af7aafedcf61",
   "metadata": {
    "tags": []
   },
   "outputs": [],
   "source": [
    "\n",
    "test[\"RoomService\"] = test['RoomService'].fillna(round(test[\"RoomService\"].mean()))\n",
    "\n",
    "test[\"FoodCourt\"] = test['FoodCourt'].fillna(round(test[\"FoodCourt\"].mean()))\n",
    "\n",
    "\n",
    "test[\"ShoppingMall\"] = test['ShoppingMall'].fillna(round(test[\"ShoppingMall\"].mean()))\n",
    "\n",
    "\n",
    "test[\"Spa\"] = test['Spa'].fillna(round(test[\"Spa\"].mean()))\n",
    "\n",
    "\n",
    "test[\"VRDeck\"] = test['VRDeck'].fillna(round(test[\"VRDeck\"].mean()))"
   ]
  },
  {
   "cell_type": "code",
   "execution_count": 34,
   "id": "0d8d9ddc-c3a1-4be8-b465-638c64e2f21e",
   "metadata": {},
   "outputs": [],
   "source": [
    "test=test.drop(['PassengerId',\"Cabin\",\"Name\"], axis=1)"
   ]
  },
  {
   "cell_type": "code",
   "execution_count": 35,
   "id": "af803599-e658-4cbc-a70a-c57e644569a4",
   "metadata": {},
   "outputs": [
    {
     "name": "stdout",
     "output_type": "stream",
     "text": [
      "<class 'pandas.core.frame.DataFrame'>\n",
      "Int64Index: 4177 entries, 0 to 4276\n",
      "Data columns (total 13 columns):\n",
      " #   Column          Non-Null Count  Dtype  \n",
      "---  ------          --------------  -----  \n",
      " 0   HomePlanet      4091 non-null   object \n",
      " 1   CryoSleep       4087 non-null   object \n",
      " 2   Destination     4085 non-null   object \n",
      " 3   Age             4177 non-null   float64\n",
      " 4   VIP             4089 non-null   object \n",
      " 5   RoomService     4177 non-null   float64\n",
      " 6   FoodCourt       4177 non-null   float64\n",
      " 7   ShoppingMall    4177 non-null   float64\n",
      " 8   Spa             4177 non-null   float64\n",
      " 9   VRDeck          4177 non-null   float64\n",
      " 10  Passenger_Deck  4177 non-null   object \n",
      " 11  Passenger_num   4177 non-null   object \n",
      " 12  Passenger_side  4177 non-null   object \n",
      "dtypes: float64(6), object(7)\n",
      "memory usage: 456.9+ KB\n"
     ]
    }
   ],
   "source": [
    "test.info()"
   ]
  },
  {
   "cell_type": "code",
   "execution_count": 36,
   "id": "f8a146aa-af97-4f3f-a6d0-5a3d7956585c",
   "metadata": {},
   "outputs": [
    {
     "name": "stdout",
     "output_type": "stream",
     "text": [
      "<class 'pandas.core.frame.DataFrame'>\n",
      "Int64Index: 8494 entries, 0 to 8692\n",
      "Data columns (total 14 columns):\n",
      " #   Column          Non-Null Count  Dtype  \n",
      "---  ------          --------------  -----  \n",
      " 0   HomePlanet      8494 non-null   object \n",
      " 1   CryoSleep       8494 non-null   bool   \n",
      " 2   Destination     8494 non-null   object \n",
      " 3   Age             8494 non-null   float64\n",
      " 4   VIP             8494 non-null   object \n",
      " 5   RoomService     8494 non-null   float64\n",
      " 6   FoodCourt       8494 non-null   float64\n",
      " 7   ShoppingMall    8494 non-null   float64\n",
      " 8   Spa             8494 non-null   float64\n",
      " 9   VRDeck          8494 non-null   float64\n",
      " 10  Transported     8494 non-null   bool   \n",
      " 11  Passenger_Deck  8494 non-null   object \n",
      " 12  Passenger_num   8494 non-null   object \n",
      " 13  Passenger_side  8494 non-null   object \n",
      "dtypes: bool(2), float64(6), object(6)\n",
      "memory usage: 879.3+ KB\n"
     ]
    }
   ],
   "source": [
    "train.info()"
   ]
  },
  {
   "cell_type": "code",
   "execution_count": 70,
   "id": "6c5da964-d027-4407-9cab-017b7761447f",
   "metadata": {},
   "outputs": [],
   "source": [
    "train['Passenger_num']=train['Passenger_num'].astype(str).astype(int)\n",
    "test['Passenger_num']=test['Passenger_num'].astype(str).astype(int)\n"
   ]
  },
  {
   "cell_type": "code",
   "execution_count": 67,
   "id": "007c08ef-f524-4416-8576-9d06fdcb2562",
   "metadata": {},
   "outputs": [
    {
     "data": {
      "text/html": [
       "<div>\n",
       "<style scoped>\n",
       "    .dataframe tbody tr th:only-of-type {\n",
       "        vertical-align: middle;\n",
       "    }\n",
       "\n",
       "    .dataframe tbody tr th {\n",
       "        vertical-align: top;\n",
       "    }\n",
       "\n",
       "    .dataframe thead th {\n",
       "        text-align: right;\n",
       "    }\n",
       "</style>\n",
       "<table border=\"1\" class=\"dataframe\">\n",
       "  <thead>\n",
       "    <tr style=\"text-align: right;\">\n",
       "      <th></th>\n",
       "      <th>HomePlanet</th>\n",
       "      <th>CryoSleep</th>\n",
       "      <th>Destination</th>\n",
       "      <th>Age</th>\n",
       "      <th>VIP</th>\n",
       "      <th>RoomService</th>\n",
       "      <th>FoodCourt</th>\n",
       "      <th>ShoppingMall</th>\n",
       "      <th>Spa</th>\n",
       "      <th>VRDeck</th>\n",
       "      <th>Transported</th>\n",
       "      <th>Passenger_Deck</th>\n",
       "      <th>Passenger_num</th>\n",
       "      <th>Passenger_side</th>\n",
       "    </tr>\n",
       "  </thead>\n",
       "  <tbody>\n",
       "    <tr>\n",
       "      <th>0</th>\n",
       "      <td>1</td>\n",
       "      <td>0</td>\n",
       "      <td>2</td>\n",
       "      <td>39.00</td>\n",
       "      <td>0</td>\n",
       "      <td>0.00</td>\n",
       "      <td>0.00</td>\n",
       "      <td>0.00</td>\n",
       "      <td>0.00</td>\n",
       "      <td>0.00</td>\n",
       "      <td>False</td>\n",
       "      <td>1</td>\n",
       "      <td>0</td>\n",
       "      <td>11</td>\n",
       "    </tr>\n",
       "    <tr>\n",
       "      <th>1</th>\n",
       "      <td>0</td>\n",
       "      <td>0</td>\n",
       "      <td>2</td>\n",
       "      <td>24.00</td>\n",
       "      <td>0</td>\n",
       "      <td>109.00</td>\n",
       "      <td>9.00</td>\n",
       "      <td>25.00</td>\n",
       "      <td>549.00</td>\n",
       "      <td>44.00</td>\n",
       "      <td>True</td>\n",
       "      <td>5</td>\n",
       "      <td>0</td>\n",
       "      <td>12</td>\n",
       "    </tr>\n",
       "    <tr>\n",
       "      <th>2</th>\n",
       "      <td>1</td>\n",
       "      <td>0</td>\n",
       "      <td>2</td>\n",
       "      <td>58.00</td>\n",
       "      <td>1</td>\n",
       "      <td>43.00</td>\n",
       "      <td>3576.00</td>\n",
       "      <td>0.00</td>\n",
       "      <td>6715.00</td>\n",
       "      <td>49.00</td>\n",
       "      <td>False</td>\n",
       "      <td>0</td>\n",
       "      <td>0</td>\n",
       "      <td>12</td>\n",
       "    </tr>\n",
       "    <tr>\n",
       "      <th>3</th>\n",
       "      <td>1</td>\n",
       "      <td>0</td>\n",
       "      <td>2</td>\n",
       "      <td>33.00</td>\n",
       "      <td>0</td>\n",
       "      <td>0.00</td>\n",
       "      <td>1283.00</td>\n",
       "      <td>371.00</td>\n",
       "      <td>3329.00</td>\n",
       "      <td>193.00</td>\n",
       "      <td>False</td>\n",
       "      <td>0</td>\n",
       "      <td>0</td>\n",
       "      <td>12</td>\n",
       "    </tr>\n",
       "    <tr>\n",
       "      <th>4</th>\n",
       "      <td>0</td>\n",
       "      <td>0</td>\n",
       "      <td>2</td>\n",
       "      <td>16.00</td>\n",
       "      <td>0</td>\n",
       "      <td>303.00</td>\n",
       "      <td>70.00</td>\n",
       "      <td>151.00</td>\n",
       "      <td>565.00</td>\n",
       "      <td>2.00</td>\n",
       "      <td>True</td>\n",
       "      <td>5</td>\n",
       "      <td>1</td>\n",
       "      <td>12</td>\n",
       "    </tr>\n",
       "  </tbody>\n",
       "</table>\n",
       "</div>"
      ],
      "text/plain": [
       "   HomePlanet  CryoSleep  Destination   Age  VIP  RoomService  FoodCourt  \\\n",
       "0           1          0            2 39.00    0         0.00       0.00   \n",
       "1           0          0            2 24.00    0       109.00       9.00   \n",
       "2           1          0            2 58.00    1        43.00    3576.00   \n",
       "3           1          0            2 33.00    0         0.00    1283.00   \n",
       "4           0          0            2 16.00    0       303.00      70.00   \n",
       "\n",
       "   ShoppingMall     Spa  VRDeck  Transported  Passenger_Deck Passenger_num  \\\n",
       "0          0.00    0.00    0.00        False               1             0   \n",
       "1         25.00  549.00   44.00         True               5             0   \n",
       "2          0.00 6715.00   49.00        False               0             0   \n",
       "3        371.00 3329.00  193.00        False               0             0   \n",
       "4        151.00  565.00    2.00         True               5             1   \n",
       "\n",
       "   Passenger_side  \n",
       "0              11  \n",
       "1              12  \n",
       "2              12  \n",
       "3              12  \n",
       "4              12  "
      ]
     },
     "execution_count": 67,
     "metadata": {},
     "output_type": "execute_result"
    }
   ],
   "source": [
    "train.head()"
   ]
  },
  {
   "cell_type": "markdown",
   "id": "7a4657e7-c137-4ea1-a2cd-a234f9388092",
   "metadata": {},
   "source": [
    "# Encoding datas\n"
   ]
  },
  {
   "cell_type": "code",
   "execution_count": 41,
   "id": "407dfb73-263e-4dc8-b038-43745628855d",
   "metadata": {},
   "outputs": [],
   "source": [
    "label_cols = [\"HomePlanet\", \"CryoSleep\", \"Destination\" ,\"VIP\",\"Passenger_Deck\",\"Passenger_side\"]\n",
    "def label_encoder(train,test,columns):\n",
    "    for col in columns:\n",
    "        train[col] = train[col].astype(str)\n",
    "        test[col] = test[col].astype(str)\n",
    "        train[col] = LabelEncoder().fit_transform(train[col])\n",
    "        test[col] =  LabelEncoder().fit_transform(test[col])\n",
    "    return train, test\n",
    "\n",
    "train ,test = label_encoder(train,test ,label_cols)"
   ]
  },
  {
   "cell_type": "code",
   "execution_count": 77,
   "id": "43309196-fafb-4233-8d0d-f9e117dbaab6",
   "metadata": {},
   "outputs": [
    {
     "data": {
      "text/html": [
       "<div>\n",
       "<style scoped>\n",
       "    .dataframe tbody tr th:only-of-type {\n",
       "        vertical-align: middle;\n",
       "    }\n",
       "\n",
       "    .dataframe tbody tr th {\n",
       "        vertical-align: top;\n",
       "    }\n",
       "\n",
       "    .dataframe thead th {\n",
       "        text-align: right;\n",
       "    }\n",
       "</style>\n",
       "<table border=\"1\" class=\"dataframe\">\n",
       "  <thead>\n",
       "    <tr style=\"text-align: right;\">\n",
       "      <th></th>\n",
       "      <th>HomePlanet</th>\n",
       "      <th>CryoSleep</th>\n",
       "      <th>Destination</th>\n",
       "      <th>Age</th>\n",
       "      <th>VIP</th>\n",
       "      <th>RoomService</th>\n",
       "      <th>FoodCourt</th>\n",
       "      <th>ShoppingMall</th>\n",
       "      <th>Spa</th>\n",
       "      <th>VRDeck</th>\n",
       "      <th>Transported</th>\n",
       "      <th>Passenger_Deck</th>\n",
       "      <th>Passenger_num</th>\n",
       "      <th>Passenger_side</th>\n",
       "    </tr>\n",
       "  </thead>\n",
       "  <tbody>\n",
       "    <tr>\n",
       "      <th>0</th>\n",
       "      <td>1</td>\n",
       "      <td>0</td>\n",
       "      <td>2</td>\n",
       "      <td>39.00</td>\n",
       "      <td>0</td>\n",
       "      <td>0.00</td>\n",
       "      <td>0.00</td>\n",
       "      <td>0.00</td>\n",
       "      <td>0.00</td>\n",
       "      <td>0.00</td>\n",
       "      <td>False</td>\n",
       "      <td>1</td>\n",
       "      <td>0</td>\n",
       "      <td>11</td>\n",
       "    </tr>\n",
       "    <tr>\n",
       "      <th>1</th>\n",
       "      <td>0</td>\n",
       "      <td>0</td>\n",
       "      <td>2</td>\n",
       "      <td>24.00</td>\n",
       "      <td>0</td>\n",
       "      <td>109.00</td>\n",
       "      <td>9.00</td>\n",
       "      <td>25.00</td>\n",
       "      <td>549.00</td>\n",
       "      <td>44.00</td>\n",
       "      <td>True</td>\n",
       "      <td>5</td>\n",
       "      <td>0</td>\n",
       "      <td>12</td>\n",
       "    </tr>\n",
       "    <tr>\n",
       "      <th>2</th>\n",
       "      <td>1</td>\n",
       "      <td>0</td>\n",
       "      <td>2</td>\n",
       "      <td>58.00</td>\n",
       "      <td>1</td>\n",
       "      <td>43.00</td>\n",
       "      <td>3576.00</td>\n",
       "      <td>0.00</td>\n",
       "      <td>6715.00</td>\n",
       "      <td>49.00</td>\n",
       "      <td>False</td>\n",
       "      <td>0</td>\n",
       "      <td>0</td>\n",
       "      <td>12</td>\n",
       "    </tr>\n",
       "    <tr>\n",
       "      <th>3</th>\n",
       "      <td>1</td>\n",
       "      <td>0</td>\n",
       "      <td>2</td>\n",
       "      <td>33.00</td>\n",
       "      <td>0</td>\n",
       "      <td>0.00</td>\n",
       "      <td>1283.00</td>\n",
       "      <td>371.00</td>\n",
       "      <td>3329.00</td>\n",
       "      <td>193.00</td>\n",
       "      <td>False</td>\n",
       "      <td>0</td>\n",
       "      <td>0</td>\n",
       "      <td>12</td>\n",
       "    </tr>\n",
       "    <tr>\n",
       "      <th>4</th>\n",
       "      <td>0</td>\n",
       "      <td>0</td>\n",
       "      <td>2</td>\n",
       "      <td>16.00</td>\n",
       "      <td>0</td>\n",
       "      <td>303.00</td>\n",
       "      <td>70.00</td>\n",
       "      <td>151.00</td>\n",
       "      <td>565.00</td>\n",
       "      <td>2.00</td>\n",
       "      <td>True</td>\n",
       "      <td>5</td>\n",
       "      <td>1</td>\n",
       "      <td>12</td>\n",
       "    </tr>\n",
       "  </tbody>\n",
       "</table>\n",
       "</div>"
      ],
      "text/plain": [
       "   HomePlanet  CryoSleep  Destination   Age  VIP  RoomService  FoodCourt  \\\n",
       "0           1          0            2 39.00    0         0.00       0.00   \n",
       "1           0          0            2 24.00    0       109.00       9.00   \n",
       "2           1          0            2 58.00    1        43.00    3576.00   \n",
       "3           1          0            2 33.00    0         0.00    1283.00   \n",
       "4           0          0            2 16.00    0       303.00      70.00   \n",
       "\n",
       "   ShoppingMall     Spa  VRDeck  Transported  Passenger_Deck  Passenger_num  \\\n",
       "0          0.00    0.00    0.00        False               1              0   \n",
       "1         25.00  549.00   44.00         True               5              0   \n",
       "2          0.00 6715.00   49.00        False               0              0   \n",
       "3        371.00 3329.00  193.00        False               0              0   \n",
       "4        151.00  565.00    2.00         True               5              1   \n",
       "\n",
       "   Passenger_side  \n",
       "0              11  \n",
       "1              12  \n",
       "2              12  \n",
       "3              12  \n",
       "4              12  "
      ]
     },
     "execution_count": 77,
     "metadata": {},
     "output_type": "execute_result"
    }
   ],
   "source": [
    "train.head()"
   ]
  },
  {
   "cell_type": "code",
   "execution_count": 78,
   "id": "2cef9147-4f8e-4635-8969-d3f028e62ccd",
   "metadata": {},
   "outputs": [
    {
     "name": "stdout",
     "output_type": "stream",
     "text": [
      "<class 'pandas.core.frame.DataFrame'>\n",
      "Int64Index: 8494 entries, 0 to 8692\n",
      "Data columns (total 14 columns):\n",
      " #   Column          Non-Null Count  Dtype  \n",
      "---  ------          --------------  -----  \n",
      " 0   HomePlanet      8494 non-null   int32  \n",
      " 1   CryoSleep       8494 non-null   int32  \n",
      " 2   Destination     8494 non-null   int32  \n",
      " 3   Age             8494 non-null   float64\n",
      " 4   VIP             8494 non-null   int32  \n",
      " 5   RoomService     8494 non-null   float64\n",
      " 6   FoodCourt       8494 non-null   float64\n",
      " 7   ShoppingMall    8494 non-null   float64\n",
      " 8   Spa             8494 non-null   float64\n",
      " 9   VRDeck          8494 non-null   float64\n",
      " 10  Transported     8494 non-null   bool   \n",
      " 11  Passenger_Deck  8494 non-null   int32  \n",
      " 12  Passenger_num   8494 non-null   int32  \n",
      " 13  Passenger_side  8494 non-null   int32  \n",
      "dtypes: bool(1), float64(6), int32(7)\n",
      "memory usage: 705.1 KB\n"
     ]
    }
   ],
   "source": [
    "train['Passenger_num'] = train['Passenger_num'].astype(str).astype(int)\n",
    "test['Passenger_num'] = test['Passenger_num'].astype(str).astype(int)\n",
    "\n",
    "train.info()"
   ]
  },
  {
   "cell_type": "code",
   "execution_count": 79,
   "id": "f88d3975-9cd2-4d6d-9f05-1ecf5ad935ca",
   "metadata": {},
   "outputs": [],
   "source": [
    "TARGET = 'Transported'\n",
    "\n",
    "X = train.drop(TARGET , axis =1 )\n",
    "y = train[TARGET]\n",
    "X_train , X_test , y_train , y_test = train_test_split(X , \n",
    "                                                       y, \n",
    "                                                       random_state = 12 ,\n",
    "                                                       test_size =0.33)"
   ]
  },
  {
   "cell_type": "code",
   "execution_count": 80,
   "id": "482e0d07-b6e3-4ce5-b0af-bf429301cbd2",
   "metadata": {},
   "outputs": [],
   "source": [
    "clf = LazyClassifier(verbose=0,\n",
    "                     ignore_warnings=True,\n",
    "                     custom_metric=None,\n",
    "                     predictions=False,\n",
    "                     random_state=12,\n",
    "                     classifiers='all')\n",
    "\n",
    "models, predictions = clf.fit(X_train , X_test , y_train , y_test)\n",
    "clear_output()"
   ]
  },
  {
   "cell_type": "code",
   "execution_count": 53,
   "id": "bf734fb4-da8c-49ac-b4ae-e0ad72888c83",
   "metadata": {},
   "outputs": [
    {
     "data": {
      "text/html": [
       "<div>\n",
       "<style scoped>\n",
       "    .dataframe tbody tr th:only-of-type {\n",
       "        vertical-align: middle;\n",
       "    }\n",
       "\n",
       "    .dataframe tbody tr th {\n",
       "        vertical-align: top;\n",
       "    }\n",
       "\n",
       "    .dataframe thead th {\n",
       "        text-align: right;\n",
       "    }\n",
       "</style>\n",
       "<table border=\"1\" class=\"dataframe\">\n",
       "  <thead>\n",
       "    <tr style=\"text-align: right;\">\n",
       "      <th></th>\n",
       "      <th>Accuracy</th>\n",
       "      <th>Balanced Accuracy</th>\n",
       "      <th>ROC AUC</th>\n",
       "      <th>F1 Score</th>\n",
       "      <th>Time Taken</th>\n",
       "    </tr>\n",
       "    <tr>\n",
       "      <th>Model</th>\n",
       "      <th></th>\n",
       "      <th></th>\n",
       "      <th></th>\n",
       "      <th></th>\n",
       "      <th></th>\n",
       "    </tr>\n",
       "  </thead>\n",
       "  <tbody>\n",
       "    <tr>\n",
       "      <th>LGBMClassifier</th>\n",
       "      <td>0.80</td>\n",
       "      <td>0.80</td>\n",
       "      <td>0.80</td>\n",
       "      <td>0.80</td>\n",
       "      <td>0.18</td>\n",
       "    </tr>\n",
       "    <tr>\n",
       "      <th>AdaBoostClassifier</th>\n",
       "      <td>0.79</td>\n",
       "      <td>0.79</td>\n",
       "      <td>0.79</td>\n",
       "      <td>0.79</td>\n",
       "      <td>0.25</td>\n",
       "    </tr>\n",
       "    <tr>\n",
       "      <th>SVC</th>\n",
       "      <td>0.79</td>\n",
       "      <td>0.79</td>\n",
       "      <td>0.79</td>\n",
       "      <td>0.79</td>\n",
       "      <td>1.88</td>\n",
       "    </tr>\n",
       "    <tr>\n",
       "      <th>NuSVC</th>\n",
       "      <td>0.79</td>\n",
       "      <td>0.79</td>\n",
       "      <td>0.79</td>\n",
       "      <td>0.79</td>\n",
       "      <td>2.19</td>\n",
       "    </tr>\n",
       "    <tr>\n",
       "      <th>XGBClassifier</th>\n",
       "      <td>0.79</td>\n",
       "      <td>0.79</td>\n",
       "      <td>0.79</td>\n",
       "      <td>0.79</td>\n",
       "      <td>0.25</td>\n",
       "    </tr>\n",
       "    <tr>\n",
       "      <th>RandomForestClassifier</th>\n",
       "      <td>0.78</td>\n",
       "      <td>0.78</td>\n",
       "      <td>0.78</td>\n",
       "      <td>0.78</td>\n",
       "      <td>0.58</td>\n",
       "    </tr>\n",
       "    <tr>\n",
       "      <th>CalibratedClassifierCV</th>\n",
       "      <td>0.78</td>\n",
       "      <td>0.78</td>\n",
       "      <td>0.78</td>\n",
       "      <td>0.78</td>\n",
       "      <td>1.25</td>\n",
       "    </tr>\n",
       "    <tr>\n",
       "      <th>LinearSVC</th>\n",
       "      <td>0.78</td>\n",
       "      <td>0.78</td>\n",
       "      <td>0.78</td>\n",
       "      <td>0.78</td>\n",
       "      <td>0.30</td>\n",
       "    </tr>\n",
       "    <tr>\n",
       "      <th>LogisticRegression</th>\n",
       "      <td>0.78</td>\n",
       "      <td>0.78</td>\n",
       "      <td>0.78</td>\n",
       "      <td>0.78</td>\n",
       "      <td>0.05</td>\n",
       "    </tr>\n",
       "    <tr>\n",
       "      <th>SGDClassifier</th>\n",
       "      <td>0.78</td>\n",
       "      <td>0.78</td>\n",
       "      <td>0.78</td>\n",
       "      <td>0.78</td>\n",
       "      <td>0.05</td>\n",
       "    </tr>\n",
       "  </tbody>\n",
       "</table>\n",
       "</div>"
      ],
      "text/plain": [
       "                        Accuracy  Balanced Accuracy  ROC AUC  F1 Score  \\\n",
       "Model                                                                    \n",
       "LGBMClassifier              0.80               0.80     0.80      0.80   \n",
       "AdaBoostClassifier          0.79               0.79     0.79      0.79   \n",
       "SVC                         0.79               0.79     0.79      0.79   \n",
       "NuSVC                       0.79               0.79     0.79      0.79   \n",
       "XGBClassifier               0.79               0.79     0.79      0.79   \n",
       "RandomForestClassifier      0.78               0.78     0.78      0.78   \n",
       "CalibratedClassifierCV      0.78               0.78     0.78      0.78   \n",
       "LinearSVC                   0.78               0.78     0.78      0.78   \n",
       "LogisticRegression          0.78               0.78     0.78      0.78   \n",
       "SGDClassifier               0.78               0.78     0.78      0.78   \n",
       "\n",
       "                        Time Taken  \n",
       "Model                               \n",
       "LGBMClassifier                0.18  \n",
       "AdaBoostClassifier            0.25  \n",
       "SVC                           1.88  \n",
       "NuSVC                         2.19  \n",
       "XGBClassifier                 0.25  \n",
       "RandomForestClassifier        0.58  \n",
       "CalibratedClassifierCV        1.25  \n",
       "LinearSVC                     0.30  \n",
       "LogisticRegression            0.05  \n",
       "SGDClassifier                 0.05  "
      ]
     },
     "execution_count": 53,
     "metadata": {},
     "output_type": "execute_result"
    }
   ],
   "source": [
    "models[:10]"
   ]
  },
  {
   "cell_type": "code",
   "execution_count": 81,
   "id": "67deb9a3-26e6-44f7-a171-7e3311268487",
   "metadata": {},
   "outputs": [],
   "source": [
    "FEATURES = [col for col in train.columns if col != TARGET]\n"
   ]
  },
  {
   "cell_type": "code",
   "execution_count": 84,
   "id": "00ee7eed-934a-45cc-9dc7-9d5e8bbec2b3",
   "metadata": {},
   "outputs": [],
   "source": [
    "#!conda install -c conda-forge lightgbm\n"
   ]
  },
  {
   "cell_type": "code",
   "execution_count": 82,
   "id": "0e39e63a-08aa-4175-94ec-bc53e392af8a",
   "metadata": {},
   "outputs": [],
   "source": [
    "from lightgbm import LGBMClassifier\n"
   ]
  },
  {
   "cell_type": "code",
   "execution_count": 83,
   "id": "0d9f4cd7-8659-4e3e-9014-3712151b3c42",
   "metadata": {},
   "outputs": [],
   "source": [
    "lgbm_model = LGBMClassifier().fit(X_train, y_train)"
   ]
  },
  {
   "cell_type": "code",
   "execution_count": 87,
   "id": "a4fbf109-c041-4439-995f-c0e9fd89adee",
   "metadata": {},
   "outputs": [
    {
     "data": {
      "text/plain": [
       "0.7956490727532097"
      ]
     },
     "execution_count": 87,
     "metadata": {},
     "output_type": "execute_result"
    }
   ],
   "source": [
    "y_pred = lgbm_model.predict(X_test)\n",
    "accuracy_score(y_test, y_pred)"
   ]
  },
  {
   "cell_type": "code",
   "execution_count": 88,
   "id": "c7a77b51-0ce3-435d-8e31-cf1ad44302d5",
   "metadata": {},
   "outputs": [],
   "source": [
    "lgbm_params = {\n",
    "        'n_estimators': [100, 500, 1000, 2000],\n",
    "        'subsample': [0.6, 0.8, 1.0],\n",
    "        'max_depth': [3, 4, 5,6],\n",
    "        'learning_rate': [0.1,0.01,0.02,0.05],\n",
    "        \"min_child_samples\": [5,10,20]}"
   ]
  },
  {
   "cell_type": "code",
   "execution_count": 91,
   "id": "a4cffabe-78e9-48e8-9c87-f657b2159e67",
   "metadata": {},
   "outputs": [],
   "source": [
    "lgbm = LGBMClassifier()\n",
    "\n",
    "lgbm_cv_model = GridSearchCV(lgbm, lgbm_params, \n",
    "                             cv = 3, \n",
    "                             n_jobs = -1, \n",
    "                             verbose = 2)\n",
    "\n"
   ]
  },
  {
   "cell_type": "code",
   "execution_count": 92,
   "id": "b171a2ba-77e2-491b-a5da-aadf55ad367f",
   "metadata": {},
   "outputs": [
    {
     "name": "stdout",
     "output_type": "stream",
     "text": [
      "Fitting 3 folds for each of 576 candidates, totalling 1728 fits\n"
     ]
    },
    {
     "data": {
      "text/plain": [
       "GridSearchCV(cv=3, estimator=LGBMClassifier(), n_jobs=-1,\n",
       "             param_grid={'learning_rate': [0.1, 0.01, 0.02, 0.05],\n",
       "                         'max_depth': [3, 4, 5, 6],\n",
       "                         'min_child_samples': [5, 10, 20],\n",
       "                         'n_estimators': [100, 500, 1000, 2000],\n",
       "                         'subsample': [0.6, 0.8, 1.0]},\n",
       "             verbose=2)"
      ]
     },
     "execution_count": 92,
     "metadata": {},
     "output_type": "execute_result"
    }
   ],
   "source": [
    "lgbm_cv_model.fit(X_train, y_train)"
   ]
  },
  {
   "cell_type": "code",
   "execution_count": 94,
   "id": "e75bb1f5-070b-4e03-a420-491cf3596c69",
   "metadata": {},
   "outputs": [
    {
     "data": {
      "text/plain": [
       "{'learning_rate': 0.02,\n",
       " 'max_depth': 5,\n",
       " 'min_child_samples': 10,\n",
       " 'n_estimators': 500,\n",
       " 'subsample': 0.6}"
      ]
     },
     "execution_count": 94,
     "metadata": {},
     "output_type": "execute_result"
    }
   ],
   "source": [
    "lgbm_cv_model.best_params_"
   ]
  },
  {
   "cell_type": "code",
   "execution_count": 96,
   "id": "bc51b121-5301-4129-bbe3-b33e897cc506",
   "metadata": {},
   "outputs": [],
   "source": [
    "lgbm = LGBMClassifier(learning_rate =0.02, \n",
    "                       max_depth = 5,\n",
    "                       subsample = 0.6,\n",
    "                       n_estimators = 500,\n",
    "                       min_child_samples = 10)"
   ]
  },
  {
   "cell_type": "code",
   "execution_count": 97,
   "id": "5116295f-8dc6-42ac-818b-dbc8d1473f66",
   "metadata": {},
   "outputs": [],
   "source": [
    "lgbm_tuned = lgbm.fit(X_train,y_train)"
   ]
  },
  {
   "cell_type": "code",
   "execution_count": 98,
   "id": "bdf2aac1-4789-480d-b562-15b005f0de96",
   "metadata": {},
   "outputs": [
    {
     "data": {
      "text/plain": [
       "0.7999286733238231"
      ]
     },
     "execution_count": 98,
     "metadata": {},
     "output_type": "execute_result"
    }
   ],
   "source": [
    "y_pred = lgbm_tuned.predict(X_test)\n",
    "accuracy_score(y_test, y_pred)"
   ]
  },
  {
   "cell_type": "code",
   "execution_count": 150,
   "id": "f5c7e9c2-c6a8-4cf2-a0f2-44bc977194dd",
   "metadata": {},
   "outputs": [
    {
     "data": {
      "text/plain": [
       "array([False, False,  True, ...,  True,  True,  True])"
      ]
     },
     "execution_count": 150,
     "metadata": {},
     "output_type": "execute_result"
    }
   ],
   "source": [
    "tahmin"
   ]
  },
  {
   "cell_type": "code",
   "execution_count": 106,
   "id": "d34b95b3-596d-4ec4-8092-98e6eef7c29d",
   "metadata": {},
   "outputs": [],
   "source": [
    "tahmin=lgbm_tuned.predict(test)"
   ]
  },
  {
   "cell_type": "code",
   "execution_count": 132,
   "id": "5fc75d2c-61b8-456f-9c01-7999f857f917",
   "metadata": {},
   "outputs": [
    {
     "data": {
      "text/plain": [
       "4177"
      ]
     },
     "execution_count": 132,
     "metadata": {},
     "output_type": "execute_result"
    }
   ],
   "source": [
    "tahmin.size"
   ]
  },
  {
   "cell_type": "code",
   "execution_count": 163,
   "id": "2d7993af-246f-43ac-b3ff-e81e9e7502ee",
   "metadata": {},
   "outputs": [],
   "source": [
    "submission=pd.read_csv(\"C:/Users/burka/OneDrive/Masaüstü/22-23 Güz/veri bilimi/reading_data/sample_submission_titan.csv\")"
   ]
  },
  {
   "cell_type": "code",
   "execution_count": 164,
   "id": "bfaa00cd-9f7a-4d34-82c9-6faa9bf186e6",
   "metadata": {},
   "outputs": [
    {
     "data": {
      "text/html": [
       "<div>\n",
       "<style scoped>\n",
       "    .dataframe tbody tr th:only-of-type {\n",
       "        vertical-align: middle;\n",
       "    }\n",
       "\n",
       "    .dataframe tbody tr th {\n",
       "        vertical-align: top;\n",
       "    }\n",
       "\n",
       "    .dataframe thead th {\n",
       "        text-align: right;\n",
       "    }\n",
       "</style>\n",
       "<table border=\"1\" class=\"dataframe\">\n",
       "  <thead>\n",
       "    <tr style=\"text-align: right;\">\n",
       "      <th></th>\n",
       "      <th>PassengerId</th>\n",
       "      <th>Transported</th>\n",
       "    </tr>\n",
       "  </thead>\n",
       "  <tbody>\n",
       "    <tr>\n",
       "      <th>4272</th>\n",
       "      <td>9266_02</td>\n",
       "      <td>False</td>\n",
       "    </tr>\n",
       "    <tr>\n",
       "      <th>4273</th>\n",
       "      <td>9269_01</td>\n",
       "      <td>False</td>\n",
       "    </tr>\n",
       "    <tr>\n",
       "      <th>4274</th>\n",
       "      <td>9271_01</td>\n",
       "      <td>False</td>\n",
       "    </tr>\n",
       "    <tr>\n",
       "      <th>4275</th>\n",
       "      <td>9273_01</td>\n",
       "      <td>False</td>\n",
       "    </tr>\n",
       "    <tr>\n",
       "      <th>4276</th>\n",
       "      <td>9277_01</td>\n",
       "      <td>False</td>\n",
       "    </tr>\n",
       "  </tbody>\n",
       "</table>\n",
       "</div>"
      ],
      "text/plain": [
       "     PassengerId  Transported\n",
       "4272     9266_02        False\n",
       "4273     9269_01        False\n",
       "4274     9271_01        False\n",
       "4275     9273_01        False\n",
       "4276     9277_01        False"
      ]
     },
     "execution_count": 164,
     "metadata": {},
     "output_type": "execute_result"
    }
   ],
   "source": [
    "submission.tail()"
   ]
  },
  {
   "cell_type": "code",
   "execution_count": 147,
   "id": "d4735ce0-c038-49fe-94c8-890160c76663",
   "metadata": {},
   "outputs": [],
   "source": [
    "submission[\"Transported\"] = tahmin\n"
   ]
  },
  {
   "cell_type": "code",
   "execution_count": 148,
   "id": "e108762b-50ea-485d-8a7f-606c35ef93c4",
   "metadata": {},
   "outputs": [
    {
     "data": {
      "text/html": [
       "<div>\n",
       "<style scoped>\n",
       "    .dataframe tbody tr th:only-of-type {\n",
       "        vertical-align: middle;\n",
       "    }\n",
       "\n",
       "    .dataframe tbody tr th {\n",
       "        vertical-align: top;\n",
       "    }\n",
       "\n",
       "    .dataframe thead th {\n",
       "        text-align: right;\n",
       "    }\n",
       "</style>\n",
       "<table border=\"1\" class=\"dataframe\">\n",
       "  <thead>\n",
       "    <tr style=\"text-align: right;\">\n",
       "      <th></th>\n",
       "      <th>PassengerId</th>\n",
       "      <th>Transported</th>\n",
       "    </tr>\n",
       "  </thead>\n",
       "  <tbody>\n",
       "    <tr>\n",
       "      <th>0</th>\n",
       "      <td>0013_01</td>\n",
       "      <td>False</td>\n",
       "    </tr>\n",
       "    <tr>\n",
       "      <th>1</th>\n",
       "      <td>0018_01</td>\n",
       "      <td>False</td>\n",
       "    </tr>\n",
       "    <tr>\n",
       "      <th>2</th>\n",
       "      <td>0019_01</td>\n",
       "      <td>True</td>\n",
       "    </tr>\n",
       "    <tr>\n",
       "      <th>3</th>\n",
       "      <td>0021_01</td>\n",
       "      <td>True</td>\n",
       "    </tr>\n",
       "    <tr>\n",
       "      <th>4</th>\n",
       "      <td>0023_01</td>\n",
       "      <td>True</td>\n",
       "    </tr>\n",
       "  </tbody>\n",
       "</table>\n",
       "</div>"
      ],
      "text/plain": [
       "  PassengerId  Transported\n",
       "0     0013_01        False\n",
       "1     0018_01        False\n",
       "2     0019_01         True\n",
       "3     0021_01         True\n",
       "4     0023_01         True"
      ]
     },
     "execution_count": 148,
     "metadata": {},
     "output_type": "execute_result"
    }
   ],
   "source": [
    "submission.head()"
   ]
  },
  {
   "cell_type": "code",
   "execution_count": 151,
   "id": "7f12f68e-8450-4149-a253-38c44d001526",
   "metadata": {},
   "outputs": [],
   "source": [
    "submission.to_csv(\"submission.csv\",index=False)\n"
   ]
  },
  {
   "cell_type": "code",
   "execution_count": 152,
   "id": "fac3bc58-1121-474d-9479-c56fefef996f",
   "metadata": {},
   "outputs": [
    {
     "data": {
      "text/html": [
       "<div>\n",
       "<style scoped>\n",
       "    .dataframe tbody tr th:only-of-type {\n",
       "        vertical-align: middle;\n",
       "    }\n",
       "\n",
       "    .dataframe tbody tr th {\n",
       "        vertical-align: top;\n",
       "    }\n",
       "\n",
       "    .dataframe thead th {\n",
       "        text-align: right;\n",
       "    }\n",
       "</style>\n",
       "<table border=\"1\" class=\"dataframe\">\n",
       "  <thead>\n",
       "    <tr style=\"text-align: right;\">\n",
       "      <th></th>\n",
       "      <th>PassengerId</th>\n",
       "      <th>Transported</th>\n",
       "    </tr>\n",
       "  </thead>\n",
       "  <tbody>\n",
       "    <tr>\n",
       "      <th>4172</th>\n",
       "      <td>9053_02</td>\n",
       "      <td>True</td>\n",
       "    </tr>\n",
       "    <tr>\n",
       "      <th>4173</th>\n",
       "      <td>9054_01</td>\n",
       "      <td>True</td>\n",
       "    </tr>\n",
       "    <tr>\n",
       "      <th>4174</th>\n",
       "      <td>9055_01</td>\n",
       "      <td>True</td>\n",
       "    </tr>\n",
       "    <tr>\n",
       "      <th>4175</th>\n",
       "      <td>9056_01</td>\n",
       "      <td>True</td>\n",
       "    </tr>\n",
       "    <tr>\n",
       "      <th>4176</th>\n",
       "      <td>9058_01</td>\n",
       "      <td>True</td>\n",
       "    </tr>\n",
       "  </tbody>\n",
       "</table>\n",
       "</div>"
      ],
      "text/plain": [
       "     PassengerId  Transported\n",
       "4172     9053_02         True\n",
       "4173     9054_01         True\n",
       "4174     9055_01         True\n",
       "4175     9056_01         True\n",
       "4176     9058_01         True"
      ]
     },
     "execution_count": 152,
     "metadata": {},
     "output_type": "execute_result"
    }
   ],
   "source": [
    "submission.tail()"
   ]
  },
  {
   "cell_type": "raw",
   "id": "277e351f-5a04-4481-a1e2-619fb4a9d581",
   "metadata": {
    "jupyter": {
     "source_hidden": true
    },
    "tags": []
   },
   "source": [
    "from pathlib import Path  \n",
    "filepath = Path(\"C:/Users/burka/OneDrive/Masaüstü/22-23 Güz/veri bilimi/reading_data/titanic_sample_submission.csv\")  \n",
    "filepath.parent.mkdir(parents=True, exist_ok=True)  \n",
    "submission.to_csv(filepath)"
   ]
  }
 ],
 "metadata": {
  "kernelspec": {
   "display_name": "Python 3 (ipykernel)",
   "language": "python",
   "name": "python3"
  },
  "language_info": {
   "codemirror_mode": {
    "name": "ipython",
    "version": 3
   },
   "file_extension": ".py",
   "mimetype": "text/x-python",
   "name": "python",
   "nbconvert_exporter": "python",
   "pygments_lexer": "ipython3",
   "version": "3.9.12"
  }
 },
 "nbformat": 4,
 "nbformat_minor": 5
}
